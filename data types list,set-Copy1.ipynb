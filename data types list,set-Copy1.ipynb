{
 "cells": [
  {
   "cell_type": "markdown",
   "id": "87a94371",
   "metadata": {},
   "source": [
    "# python data types are categorized into two as follows"
   ]
  },
  {
   "cell_type": "markdown",
   "id": "d09f2a92",
   "metadata": {},
   "source": [
    ".Mutable Data Types:Data types in python where the value assigned to a variable can be changed\n",
    "but mamore shuld be no chang \n",
    "\n",
    "\n",
    ".Immutable Data Types: data types in python \n",
    " namber string and tuples int decimal,float,tuple,bool reang and sttrings"
   ]
  },
  {
   "cell_type": "markdown",
   "id": "79e1db9d",
   "metadata": {},
   "source": [
    "- Mutable Data type = L- List\n",
    "                      ,S- Set\n",
    "                      ,D- dictionary\n",
    "\n",
    "- Immutable Data type = S- String\n",
    "                        ,T- Tuple\n",
    "                        ,F- FLoat\n",
    "                        ,D- Decimal\n",
    "                        ,B- Bool"
   ]
  },
  {
   "cell_type": "markdown",
   "id": "1451b8ab",
   "metadata": {},
   "source": [
    "# List data types\n",
    "\n",
    "# python list"
   ]
  },
  {
   "cell_type": "markdown",
   "id": "7a5e4c1e",
   "metadata": {},
   "source": [
    "- List data types is mutable\n",
    "- Ordered:Tha items in the lists are ordered. each itam has a unidex index value.\n",
    "- Heterogenous: Tha list can contain different kinds of elements i.e: than can contain elements of       string.integer.boolean,or any type\n",
    "- Duplicates: Tha list can contain duplicatas i,e,, lists can have two items with tha same values why   use a list\n",
    "- list is iterable- in python, an \"iterable\" refers to an object that can be iterable over, meaning you can through its elements one by one iterable are a fundamental concept in python's iterable protocol and they are used in various contexts where you need to process elements sequentially such as in loops and comprehension expressions examples of built-in python iterable include lists, tuple,strings dictionaries (when iterable over keys,value of item),sets, and more."
   ]
  },
  {
   "cell_type": "markdown",
   "id": "9d3f8240",
   "metadata": {},
   "source": [
    "# List data types\n",
    "\n",
    "append"
   ]
  },
  {
   "cell_type": "code",
   "execution_count": 2,
   "id": "dff23ca3",
   "metadata": {},
   "outputs": [
    {
     "name": "stdout",
     "output_type": "stream",
     "text": [
      "name\n"
     ]
    }
   ],
   "source": [
    "my_list=[11,15,11,'aayush',2.7]\n",
    "name=('aayush')\n",
    "print('name')\n"
   ]
  },
  {
   "cell_type": "markdown",
   "id": "5704211e",
   "metadata": {},
   "source": [
    "## x=(1,2,3)\n",
    "x= list (x)\n",
    "print(x)"
   ]
  },
  {
   "cell_type": "code",
   "execution_count": 20,
   "id": "e4608626",
   "metadata": {},
   "outputs": [
    {
     "name": "stdout",
     "output_type": "stream",
     "text": [
      "['a', 'a', 'y', 'u', 's', 'h']\n"
     ]
    }
   ],
   "source": [
    "x=('aayush')\n",
    "x=list(x)\n",
    "print(x)"
   ]
  },
  {
   "cell_type": "markdown",
   "id": "94db5cd2",
   "metadata": {},
   "source": []
  },
  {
   "cell_type": "code",
   "execution_count": 1,
   "id": "3c939b31",
   "metadata": {},
   "outputs": [
    {
     "ename": "NameError",
     "evalue": "name 'MY_list' is not defined",
     "output_type": "error",
     "traceback": [
      "\u001b[1;31m---------------------------------------------------------------------------\u001b[0m",
      "\u001b[1;31mNameError\u001b[0m                                 Traceback (most recent call last)",
      "Cell \u001b[1;32mIn[1], line 1\u001b[0m\n\u001b[1;32m----> 1\u001b[0m \u001b[38;5;28mprint\u001b[39m(\u001b[38;5;28mlen\u001b[39m( MY_list ))\n",
      "\u001b[1;31mNameError\u001b[0m: name 'MY_list' is not defined"
     ]
    }
   ],
   "source": [
    "print(len( MY_list ))"
   ]
  },
  {
   "cell_type": "code",
   "execution_count": 22,
   "id": "b4f94bcd",
   "metadata": {},
   "outputs": [
    {
     "name": "stdout",
     "output_type": "stream",
     "text": [
      "[11]\n"
     ]
    }
   ],
   "source": [
    "my_list=[11]\n",
    "number=11\n",
    "print(my_list)"
   ]
  },
  {
   "cell_type": "code",
   "execution_count": 3,
   "id": "22a8d042",
   "metadata": {},
   "outputs": [
    {
     "name": "stdout",
     "output_type": "stream",
     "text": [
      "12\n",
      "17\n"
     ]
    }
   ],
   "source": [
    "my_list=[11,12,'aayush',15,16,17]\n",
    "print(my_list[1])\n",
    "print(my_list[5])\n"
   ]
  },
  {
   "cell_type": "code",
   "execution_count": 8,
   "id": "48edb533",
   "metadata": {},
   "outputs": [
    {
     "name": "stdout",
     "output_type": "stream",
     "text": [
      "16\n"
     ]
    }
   ],
   "source": [
    "my_list=[11,12,'aayush',15,16,17]\n",
    "print(my_list[-2])\n",
    "\n",
    "\n"
   ]
  },
  {
   "cell_type": "markdown",
   "id": "0dbb6121",
   "metadata": {},
   "source": []
  },
  {
   "cell_type": "code",
   "execution_count": 9,
   "id": "44543f93",
   "metadata": {},
   "outputs": [
    {
     "name": "stdout",
     "output_type": "stream",
     "text": [
      "aayush\n"
     ]
    }
   ],
   "source": [
    "my_list=[11,12,14,'aayush',15,16,17]\n",
    "print(my_list[-4])"
   ]
  },
  {
   "cell_type": "code",
   "execution_count": 28,
   "id": "01f7e93a",
   "metadata": {},
   "outputs": [
    {
     "name": "stdout",
     "output_type": "stream",
     "text": [
      "[11, 12, 14, 'aayush', 15, 16, 17]\n",
      "7\n"
     ]
    }
   ],
   "source": [
    "my_list=[11,12,14,'aayush',15,16,17]\n",
    "print(my_list)\n",
    "print(len(my_list))"
   ]
  },
  {
   "cell_type": "code",
   "execution_count": null,
   "id": "d106fa1c",
   "metadata": {},
   "outputs": [],
   "source": []
  },
  {
   "cell_type": "code",
   "execution_count": 29,
   "id": "d35c0470",
   "metadata": {},
   "outputs": [
    {
     "name": "stdout",
     "output_type": "stream",
     "text": [
      "[1, 2, 3]\n"
     ]
    }
   ],
   "source": [
    "x=print([1,2,3])"
   ]
  },
  {
   "cell_type": "code",
   "execution_count": 32,
   "id": "c5e7d819",
   "metadata": {},
   "outputs": [
    {
     "data": {
      "text/plain": [
       "<function print(*args, sep=' ', end='\\n', file=None, flush=False)>"
      ]
     },
     "execution_count": 32,
     "metadata": {},
     "output_type": "execute_result"
    }
   ],
   "source": []
  },
  {
   "cell_type": "code",
   "execution_count": 33,
   "id": "53ea966d",
   "metadata": {},
   "outputs": [
    {
     "name": "stdout",
     "output_type": "stream",
     "text": [
      "[14, 'aayush', 15]\n"
     ]
    }
   ],
   "source": [
    "my_list=[11,12,14,'aayush',15,16,17]\n",
    "print(my_list[2:5])"
   ]
  },
  {
   "cell_type": "markdown",
   "id": "1d102a76",
   "metadata": {},
   "source": [
    "# Syntax of \n",
    "\n",
    "# listname[start_index"
   ]
  },
  {
   "cell_type": "code",
   "execution_count": 4,
   "id": "cc97a8ae",
   "metadata": {},
   "outputs": [
    {
     "name": "stdout",
     "output_type": "stream",
     "text": [
      "[14, 15]\n"
     ]
    }
   ],
   "source": [
    "my_list=[11,12,14,'aayush',15,16,17]\n",
    "print(my_list[2:5:2])"
   ]
  },
  {
   "cell_type": "code",
   "execution_count": 9,
   "id": "9c3bb128",
   "metadata": {},
   "outputs": [
    {
     "name": "stdout",
     "output_type": "stream",
     "text": [
      "[14, 16, 30]\n"
     ]
    }
   ],
   "source": [
    "my_list=[11,12,14,'aayush',15,16,17,22,30,56]\n",
    "print(my_list[2:9:3])"
   ]
  },
  {
   "cell_type": "code",
   "execution_count": null,
   "id": "37766112",
   "metadata": {},
   "outputs": [],
   "source": [
    "1 and 5 or 15 and  9>10!=11>10 or 20"
   ]
  },
  {
   "cell_type": "code",
   "execution_count": 11,
   "id": "57a5f326",
   "metadata": {},
   "outputs": [
    {
     "name": "stdout",
     "output_type": "stream",
     "text": [
      "[14, 16]\n"
     ]
    }
   ],
   "source": [
    "my_list=[11,12,14,'aayush',15,16,17,30,45,70]\n",
    "print(my_list[2:7:3])"
   ]
  },
  {
   "cell_type": "code",
   "execution_count": null,
   "id": "441c9f65",
   "metadata": {},
   "outputs": [],
   "source": []
  },
  {
   "cell_type": "code",
   "execution_count": 12,
   "id": "c37763aa",
   "metadata": {},
   "outputs": [
    {
     "name": "stdout",
     "output_type": "stream",
     "text": [
      "[5, 2, 'aayush', 6]\n"
     ]
    }
   ],
   "source": [
    "my_list=[5,2,'aayush',6,7,3]\n",
    "print(my_list[:4])"
   ]
  },
  {
   "cell_type": "code",
   "execution_count": null,
   "id": "b60b73a2",
   "metadata": {},
   "outputs": [],
   "source": []
  },
  {
   "cell_type": "code",
   "execution_count": 14,
   "id": "aba77fdc",
   "metadata": {},
   "outputs": [
    {
     "name": "stdout",
     "output_type": "stream",
     "text": [
      "[11, 12, 14, 'aayush', 15, 16, 17, 30, 45]\n"
     ]
    }
   ],
   "source": [
    "my_list=[11,12,14,'aayush',15,16,17,30,45,70]\n",
    "print(my_list[0:9])"
   ]
  },
  {
   "cell_type": "code",
   "execution_count": 20,
   "id": "b6c402d4",
   "metadata": {},
   "outputs": [
    {
     "name": "stdout",
     "output_type": "stream",
     "text": [
      "[11, 12, 14, 'aayush', 15, 16, 17, 30, 45, 70]\n"
     ]
    }
   ],
   "source": [
    "my_list=[11,12,14,'aayush',15,16,17,30,45,70]\n",
    "print(my_list[0:10])"
   ]
  },
  {
   "cell_type": "code",
   "execution_count": 23,
   "id": "1e472b0f",
   "metadata": {},
   "outputs": [
    {
     "data": {
      "text/plain": [
       "[11, 14, 15, 17, 45]"
      ]
     },
     "execution_count": 23,
     "metadata": {},
     "output_type": "execute_result"
    }
   ],
   "source": [
    "my_list[::2]"
   ]
  },
  {
   "cell_type": "code",
   "execution_count": 24,
   "id": "941b18a1",
   "metadata": {},
   "outputs": [
    {
     "data": {
      "text/plain": [
       "['aayush', 15, 16, 17, 30, 45, 70]"
      ]
     },
     "execution_count": 24,
     "metadata": {},
     "output_type": "execute_result"
    }
   ],
   "source": [
    "my_list[3:]"
   ]
  },
  {
   "cell_type": "code",
   "execution_count": 1,
   "id": "c4602fb2",
   "metadata": {},
   "outputs": [
    {
     "name": "stdout",
     "output_type": "stream",
     "text": [
      "11\n",
      "12\n",
      "14\n",
      "aayush\n",
      "15\n",
      "16\n",
      "17\n",
      "30\n",
      "45\n",
      "70\n"
     ]
    }
   ],
   "source": [
    "my_list=[11,12,14,'aayush',15,16,17,30,45,70]\n",
    "for item in my_list:\n",
    "     print(item)"
   ]
  },
  {
   "cell_type": "code",
   "execution_count": 51,
   "id": "d4361b0d",
   "metadata": {},
   "outputs": [
    {
     "name": "stdout",
     "output_type": "stream",
     "text": [
      "11\n",
      "12\n",
      "14\n",
      "aayush\n",
      "15\n",
      "16\n",
      "17\n",
      "30\n",
      "45\n",
      "70\n"
     ]
    }
   ],
   "source": [
    "my_list=[11,12,14,'aayush',15,16,17,30,45,70]\n",
    "# iterate a list\n",
    "for item in my_list:\n",
    "    print(item)"
   ]
  },
  {
   "cell_type": "code",
   "execution_count": null,
   "id": "4ed2587c",
   "metadata": {},
   "outputs": [],
   "source": [
    "my_list=[11,12,14,'aayush',15,16,17,30,45,70]\n",
    "\n",
    "# iterate a list"
   ]
  },
  {
   "cell_type": "markdown",
   "id": "60df491a",
   "metadata": {},
   "source": [
    "# Adding elements to tha list\n",
    "\n",
    "we can add a new elements/list of to tha list using tha list methods such as append(),insert(),and extend() "
   ]
  },
  {
   "cell_type": "code",
   "execution_count": 4,
   "id": "d5cb5db9",
   "metadata": {},
   "outputs": [
    {
     "name": "stdout",
     "output_type": "stream",
     "text": [
      "[11, 12, 14, 'aayush', 15, 16, 17, 30, 45, 70, 'pankaj']\n",
      "1374760268736\n"
     ]
    }
   ],
   "source": [
    "my_list=[11,12,14,'aayush',15,16,17,30,45,70]\n",
    "my_list.append('pankaj')\n",
    "print(my_list)\n",
    "\n",
    "print(id(my_list))"
   ]
  },
  {
   "cell_type": "code",
   "execution_count": 3,
   "id": "0640a8c4",
   "metadata": {},
   "outputs": [
    {
     "name": "stdout",
     "output_type": "stream",
     "text": [
      "140706618370800\n"
     ]
    }
   ],
   "source": [
    "print(id(z))"
   ]
  },
  {
   "cell_type": "code",
   "execution_count": 4,
   "id": "ad556ede",
   "metadata": {},
   "outputs": [
    {
     "name": "stdout",
     "output_type": "stream",
     "text": [
      "1461714213568\n"
     ]
    }
   ],
   "source": [
    "print(id(my_list))"
   ]
  },
  {
   "cell_type": "code",
   "execution_count": 17,
   "id": "9184fa2c",
   "metadata": {},
   "outputs": [
    {
     "name": "stdout",
     "output_type": "stream",
     "text": [
      "140726715763832\n",
      "2058210532992\n"
     ]
    }
   ],
   "source": [
    "my_list=[11,12,14,'aayush',15,16,17,30,45,70]\n",
    "print(id('z'))\n",
    "print(id(my_list))\n"
   ]
  },
  {
   "cell_type": "code",
   "execution_count": 20,
   "id": "84748d38",
   "metadata": {},
   "outputs": [
    {
     "name": "stdout",
     "output_type": "stream",
     "text": [
      "140726714329840\n",
      "2058210521152\n"
     ]
    }
   ],
   "source": [
    "my_list=[11,12,14,'aayush',15,16,17,30,45,70]\n",
    "print(id(z))\n",
    "print(id(my_list))"
   ]
  },
  {
   "cell_type": "code",
   "execution_count": 21,
   "id": "1fdf3f05",
   "metadata": {},
   "outputs": [
    {
     "name": "stdout",
     "output_type": "stream",
     "text": [
      "[11, 12, 14, 'aayush', 15, 16, 17, 30, 45, 70, [35, 56, 78]]\n"
     ]
    }
   ],
   "source": [
    "my_list=[11,12,14,'aayush',15,16,17,30,45,70]\n",
    "my_list.append([35,56,78])\n",
    "print(my_list)"
   ]
  },
  {
   "cell_type": "markdown",
   "id": "376c75ce",
   "metadata": {},
   "source": [
    "# Add item at tha specified\n",
    "\n",
    "insert(index1.object"
   ]
  },
  {
   "cell_type": "code",
   "execution_count": 27,
   "id": "910ab457",
   "metadata": {},
   "outputs": [
    {
     "name": "stdout",
     "output_type": "stream",
     "text": [
      "[11, 12, 14, 35, 'aayush', 15, 16, 17, 30, 45, 70]\n"
     ]
    }
   ],
   "source": [
    "my_list=[11,12,14,'aayush',15,16,17,30,45,70]\n",
    "my_list.insert(3,35)\n",
    "print(my_list)"
   ]
  },
  {
   "cell_type": "markdown",
   "id": "eb68d0c2",
   "metadata": {},
   "source": [
    "# Using extend()\n",
    "\n",
    "Tha extend method will accept tha list of elements add them addd tha and of tha list.we can"
   ]
  },
  {
   "cell_type": "code",
   "execution_count": 29,
   "id": "30b88426",
   "metadata": {},
   "outputs": [
    {
     "name": "stdout",
     "output_type": "stream",
     "text": [
      "[11, 12, 14, 'aayush', 15, 16, 17, 30, 45, 70, 'pankaj']\n",
      "[11, 12, 14, 35, 'aayush', 15, 16, 17, 30, 45, 70, 'pankaj']\n"
     ]
    }
   ],
   "source": [
    "my_list=[11,12,14,'aayush',15,16,17,30,45,70]\n",
    "z=my_list.append('pankaj')\n",
    "print(my_list)\n",
    "\n",
    "my_list.insert(3,35)\n",
    "print(my_list)"
   ]
  },
  {
   "cell_type": "code",
   "execution_count": 30,
   "id": "30f22225",
   "metadata": {},
   "outputs": [
    {
     "name": "stdout",
     "output_type": "stream",
     "text": [
      "[11, 12, 14, 'aayush', 15, 16, 17, 30, 45, 70, [12, 15, 16]]\n"
     ]
    }
   ],
   "source": [
    "my_list=[11,12,14,'aayush',15,16,17,30,45,70]\n",
    "my_list.append([12,15,16])\n",
    "print(my_list)"
   ]
  },
  {
   "cell_type": "code",
   "execution_count": null,
   "id": "6ea503d0",
   "metadata": {},
   "outputs": [],
   "source": [
    "my_list.append([12,15,16])\n",
    "\n",
    "print(my_list)"
   ]
  },
  {
   "cell_type": "code",
   "execution_count": 31,
   "id": "257f1ac8",
   "metadata": {},
   "outputs": [
    {
     "name": "stdout",
     "output_type": "stream",
     "text": [
      "[11, 12, 14, 'aayush', 15, 16, 17, 30, 45, 70, 12, 15, 16]\n"
     ]
    }
   ],
   "source": [
    "my_list=[11,12,14,'aayush',15,16,17,30,45,70]\n",
    "z=my_list.extend([12,15,16])\n",
    "print(my_list)"
   ]
  },
  {
   "cell_type": "code",
   "execution_count": 38,
   "id": "5872b03e",
   "metadata": {},
   "outputs": [
    {
     "name": "stdout",
     "output_type": "stream",
     "text": [
      "[11, 12, 14, 'aayush', 15, 16, 17, 30, 45, 70, 'd', 'e', 'p', 'a', 'k']\n"
     ]
    }
   ],
   "source": [
    "my_list=[11,12,14,'aayush',15,16,17,30,45,70]\n",
    "my_list.extend(\"depak\")\n",
    "print(my_list)              # van ve will to add ani data type in a bas tha outcan will be list\n",
    "                              oll tha data\n",
    "                              "
   ]
  },
  {
   "cell_type": "code",
   "execution_count": 15,
   "id": "d10673cd",
   "metadata": {},
   "outputs": [
    {
     "name": "stdout",
     "output_type": "stream",
     "text": [
      "[11, 12, 14, 'aayush', 15, 16, 17, 30, 45, 70, 'd', 'e', 'p', 'a', 'k']\n"
     ]
    }
   ],
   "source": [
    "my_list=[11,12,14,'aayush',15,16,17,30,45,70]\n",
    "my_list.extend('depak')\n",
    "print(my_list)        "
   ]
  },
  {
   "cell_type": "code",
   "execution_count": 41,
   "id": "08e30ec5",
   "metadata": {},
   "outputs": [
    {
     "name": "stdout",
     "output_type": "stream",
     "text": [
      "[1, 2, 5, 7, 'd', 'i', 's', 'h', 'a']\n"
     ]
    }
   ],
   "source": [
    "z=[1,2,5,7]\n",
    "z.extend(\"disha\")\n",
    "print(z)"
   ]
  },
  {
   "cell_type": "code",
   "execution_count": 25,
   "id": "a110e414",
   "metadata": {},
   "outputs": [
    {
     "name": "stdout",
     "output_type": "stream",
     "text": [
      "[11, 12, 14, 'aayush', 15, 16, 17, 30, 45, 70, 'disha']\n"
     ]
    }
   ],
   "source": [
    "my_list=[11,12,14,'aayush',15,16,17,30,45,70]\n",
    "my_list.append('disha')\n",
    "print(my_list)"
   ]
  },
  {
   "cell_type": "code",
   "execution_count": 42,
   "id": "c5d04be0",
   "metadata": {},
   "outputs": [
    {
     "name": "stdout",
     "output_type": "stream",
     "text": [
      "[1, 2, 5, 7, 6, 5, 11]\n"
     ]
    }
   ],
   "source": [
    "z=[1,2,5,7]\n",
    "z.extend([6,5,11])\n",
    "print(z)"
   ]
  },
  {
   "cell_type": "markdown",
   "id": "6fba84c7",
   "metadata": {},
   "source": [
    "# Modify items of tha list\n"
   ]
  },
  {
   "cell_type": "code",
   "execution_count": 43,
   "id": "f32fe16a",
   "metadata": {},
   "outputs": [
    {
     "name": "stdout",
     "output_type": "stream",
     "text": [
      "[1, 2, 7, 7]\n"
     ]
    }
   ],
   "source": [
    "z=[1,2,5,7]\n",
    "z[2] = 7\n",
    "print(z)"
   ]
  },
  {
   "cell_type": "code",
   "execution_count": 2,
   "id": "f5d1f5c9",
   "metadata": {},
   "outputs": [
    {
     "name": "stdout",
     "output_type": "stream",
     "text": [
      "[1, 2, 5, 5, 8]\n"
     ]
    }
   ],
   "source": [
    "z=[1,2,5,7,8]\n",
    "z[3] = 5\n",
    "print(z)"
   ]
  },
  {
   "cell_type": "code",
   "execution_count": 26,
   "id": "a4936b6b",
   "metadata": {},
   "outputs": [
    {
     "name": "stdout",
     "output_type": "stream",
     "text": [
      "[1, 2, 5, 8, 6, 9, 15, 36, 76, 45, 58]\n"
     ]
    }
   ],
   "source": [
    "z=[1,2,4,7,9,15,36,76,45,58]\n",
    "z[2:4] = [5,8,6]\n",
    "print(z)"
   ]
  },
  {
   "cell_type": "code",
   "execution_count": 1,
   "id": "74e92270",
   "metadata": {},
   "outputs": [
    {
     "name": "stdout",
     "output_type": "stream",
     "text": [
      "[11, 12, 14, 'aayush', 15, 16, 17, 30, 45, 70, 'd', 'e', 'p', 'a', 'k']\n"
     ]
    }
   ],
   "source": [
    "my_list=[11,12,14,'aayush',15,16,17,30,45,70]\n",
    "my_list.extend(\"depak\")\n",
    "print(my_list)        "
   ]
  },
  {
   "cell_type": "code",
   "execution_count": 2,
   "id": "8eccda72",
   "metadata": {},
   "outputs": [
    {
     "name": "stdout",
     "output_type": "stream",
     "text": [
      "[11, 12, 14, 'aayush', 15, 16, 17, 30, 45, 70, 'd', 'e', 'p', 'a', 'k']\n"
     ]
    }
   ],
   "source": [
    "my_list=[11,12,14,'aayush',15,16,17,30,45,70]\n",
    "my_list.extend(\"depak\")\n",
    "print(my_list)        "
   ]
  },
  {
   "cell_type": "markdown",
   "id": "abfb6d83",
   "metadata": {},
   "source": [
    "# Removing elements from a list\n",
    "\n",
    "1 removing(list)     to removing tha fist occurrence of tha item feom tha list\n",
    "2 pop(index)         removes and retuns tha item at tha givan index feom tha                        list\n",
    "3 clear()            to remove \n",
    "4 del list_name"
   ]
  },
  {
   "cell_type": "code",
   "execution_count": 5,
   "id": "9cefd9d0",
   "metadata": {},
   "outputs": [
    {
     "name": "stdout",
     "output_type": "stream",
     "text": [
      "[11, 12, 'aayush', 15, 16, 17, 30, 45, 70]\n"
     ]
    }
   ],
   "source": [
    "my_list=[11,12,14,'aayush',15,16,17,30,45,70]\n",
    "my_list.remove(14)\n",
    "print(my_list)        "
   ]
  },
  {
   "cell_type": "code",
   "execution_count": 1,
   "id": "1a5a5011",
   "metadata": {},
   "outputs": [
    {
     "name": "stdout",
     "output_type": "stream",
     "text": [
      "[11, 12, 'aayush', 15, 16, 17, 30, 45, 70]\n"
     ]
    }
   ],
   "source": [
    "my_list=[11,12,14,'aayush',15,16,17,30,45,70]\n",
    "my_list.remove(14)\n",
    "print(my_list)"
   ]
  },
  {
   "cell_type": "code",
   "execution_count": 7,
   "id": "e30dc5d9",
   "metadata": {},
   "outputs": [
    {
     "name": "stdout",
     "output_type": "stream",
     "text": [
      "[11, 12, 'aayush', 15, 16, 17, 30, 45, 70]\n"
     ]
    },
    {
     "data": {
      "text/plain": [
       "70"
      ]
     },
     "execution_count": 7,
     "metadata": {},
     "output_type": "execute_result"
    }
   ],
   "source": [
    "my_list=[11,12,14,'aayush',15,16,17,30,45,70]\n",
    "my_list.pop(2)\n",
    "print(my_list)   \n",
    "\n",
    "my_list.pop()"
   ]
  },
  {
   "cell_type": "code",
   "execution_count": 4,
   "id": "1564fa7d",
   "metadata": {},
   "outputs": [
    {
     "name": "stdout",
     "output_type": "stream",
     "text": [
      "[11, 12, 'aayush', 15, 16, 17, 30, 45, 70]\n"
     ]
    }
   ],
   "source": [
    "my_list=[11,12,14,'aayush',15,16,17,30,45,70]\n",
    "my_list.pop(2)\n",
    "print(my_list)   "
   ]
  },
  {
   "cell_type": "markdown",
   "id": "71b9259d",
   "metadata": {},
   "source": [
    "# removes tha range of items"
   ]
  },
  {
   "cell_type": "code",
   "execution_count": 12,
   "id": "16f308cf",
   "metadata": {},
   "outputs": [
    {
     "name": "stdout",
     "output_type": "stream",
     "text": [
      "[11, 12, 17, 30, 45, 70]\n"
     ]
    }
   ],
   "source": [
    "my_list=[11,12,14,'aayush',15,16,17,30,45,70]\n",
    "del my_list[2:6]\n",
    "print(my_list)        "
   ]
  },
  {
   "cell_type": "code",
   "execution_count": 17,
   "id": "a8aaba5b",
   "metadata": {},
   "outputs": [
    {
     "name": "stdout",
     "output_type": "stream",
     "text": [
      "[11, 12, 70]\n",
      "[11, 12, 14]\n"
     ]
    }
   ],
   "source": [
    "my_list=[11,12,14,'aayush',15,16,17,30,45,70]\n",
    "del my_list[2:9]\n",
    "print(my_list)\n",
    "\n",
    "my_list=[11,12,14,'aayush',15,16,17,30,45,70]\n",
    "del my_list[3:]\n",
    "print(my_list)         \n",
    "        "
   ]
  },
  {
   "cell_type": "code",
   "execution_count": 2,
   "id": "4c227a45",
   "metadata": {},
   "outputs": [
    {
     "name": "stdout",
     "output_type": "stream",
     "text": [
      "[11, 12, 14, 'aayush', 15, 16, 17, 30, 45, 70]\n"
     ]
    }
   ],
   "source": [
    "my_list=[11,12,14,'aayush',15,16,17,30,45,70]\n",
    "del my_list[:0]\n",
    "print(my_list)"
   ]
  },
  {
   "cell_type": "code",
   "execution_count": 18,
   "id": "b657edfc",
   "metadata": {},
   "outputs": [
    {
     "name": "stdout",
     "output_type": "stream",
     "text": [
      "[]\n"
     ]
    }
   ],
   "source": [
    "my_list=[11,12,14,'aayush',15,16,17,30,45,70]\n",
    "del my_list[0:]\n",
    "print(my_list)        "
   ]
  },
  {
   "cell_type": "code",
   "execution_count": 6,
   "id": "5ba09f53",
   "metadata": {},
   "outputs": [
    {
     "name": "stdout",
     "output_type": "stream",
     "text": [
      "[12, 14, 'aayush', 15, 16, 17, 30, 45, 70]\n"
     ]
    }
   ],
   "source": [
    "my_list=[11,12,14,'aayush',15,16,17,30,45,70]\n",
    "del my_list[0]\n",
    "print(my_list)        "
   ]
  },
  {
   "cell_type": "code",
   "execution_count": 8,
   "id": "b47d1fc4",
   "metadata": {},
   "outputs": [
    {
     "name": "stdout",
     "output_type": "stream",
     "text": [
      "[11, 12, 14, 'aayush', 15, 16, 17, 70]\n"
     ]
    }
   ],
   "source": [
    "my_list=[11,12,14,'aayush',15,16,17,30,45,70]\n",
    "del my_list[-3:-1]\n",
    "print(my_list)        "
   ]
  },
  {
   "cell_type": "code",
   "execution_count": 10,
   "id": "fdae27ff",
   "metadata": {},
   "outputs": [
    {
     "name": "stdout",
     "output_type": "stream",
     "text": [
      "[]\n"
     ]
    }
   ],
   "source": [
    "my_list=[11,12,14,'aayush',15,16,17,30,45,70]\n",
    "my_list.clear()\n",
    "print(my_list)        "
   ]
  },
  {
   "cell_type": "code",
   "execution_count": 25,
   "id": "74533f1c",
   "metadata": {},
   "outputs": [
    {
     "name": "stdout",
     "output_type": "stream",
     "text": [
      "[]\n"
     ]
    }
   ],
   "source": [
    "my_list=[11,12,14,'aayush',15,16,17,30,45,70]\n",
    "my_list.clear()\n",
    "print(my_list)\n",
    "\n",
    "del my_list"
   ]
  },
  {
   "cell_type": "code",
   "execution_count": 26,
   "id": "f364d486",
   "metadata": {},
   "outputs": [
    {
     "ename": "NameError",
     "evalue": "name 'my_list' is not defined",
     "output_type": "error",
     "traceback": [
      "\u001b[1;31m---------------------------------------------------------------------------\u001b[0m",
      "\u001b[1;31mNameError\u001b[0m                                 Traceback (most recent call last)",
      "Cell \u001b[1;32mIn[26], line 2\u001b[0m\n\u001b[0;32m      1\u001b[0m \u001b[38;5;66;03m# Delete entire list\u001b[39;00m\n\u001b[1;32m----> 2\u001b[0m \u001b[38;5;28;01mdel\u001b[39;00m my_list\n\u001b[0;32m      3\u001b[0m \u001b[38;5;28mprint\u001b[39m(my_list)\n",
      "\u001b[1;31mNameError\u001b[0m: name 'my_list' is not defined"
     ]
    }
   ],
   "source": [
    "# Delete entire list\n",
    "del my_list\n",
    "print(my_list)"
   ]
  },
  {
   "cell_type": "markdown",
   "id": "13fa5042",
   "metadata": {},
   "source": [
    "# Finding an element in tha list"
   ]
  },
  {
   "cell_type": "code",
   "execution_count": 29,
   "id": "16c0a696",
   "metadata": {},
   "outputs": [
    {
     "name": "stdout",
     "output_type": "stream",
     "text": [
      "5\n"
     ]
    }
   ],
   "source": [
    "my_list=[11,12,14,'aayush',15,16,17,30,45,70]\n",
    "\n",
    "print(my_list.index(16))        "
   ]
  },
  {
   "cell_type": "code",
   "execution_count": 4,
   "id": "e38d0660",
   "metadata": {},
   "outputs": [
    {
     "ename": "TypeError",
     "evalue": "list indices must be integers or slices, not str",
     "output_type": "error",
     "traceback": [
      "\u001b[1;31m---------------------------------------------------------------------------\u001b[0m",
      "\u001b[1;31mTypeError\u001b[0m                                 Traceback (most recent call last)",
      "Cell \u001b[1;32mIn[4], line 2\u001b[0m\n\u001b[0;32m      1\u001b[0m my_list\u001b[38;5;241m=\u001b[39m[\u001b[38;5;241m11\u001b[39m,\u001b[38;5;241m12\u001b[39m,\u001b[38;5;241m14\u001b[39m,\u001b[38;5;124m'\u001b[39m\u001b[38;5;124maayush\u001b[39m\u001b[38;5;124m'\u001b[39m,\u001b[38;5;241m15\u001b[39m,\u001b[38;5;241m16\u001b[39m,\u001b[38;5;241m17\u001b[39m,\u001b[38;5;241m30\u001b[39m,\u001b[38;5;241m45\u001b[39m,\u001b[38;5;241m70\u001b[39m]\n\u001b[1;32m----> 2\u001b[0m my_list[\u001b[38;5;124m\"\u001b[39m\u001b[38;5;124m2+5\u001b[39m\u001b[38;5;124m\"\u001b[39m]\n\u001b[0;32m      3\u001b[0m \u001b[38;5;28mprint\u001b[39m(my_list)\n",
      "\u001b[1;31mTypeError\u001b[0m: list indices must be integers or slices, not str"
     ]
    }
   ],
   "source": [
    "my_list=[11,12,14,'aayush',15,16,17,30,45,70]\n",
    "my_list[\"2+5\"]\n",
    "print(my_list)"
   ]
  },
  {
   "cell_type": "code",
   "execution_count": 5,
   "id": "93e796b2",
   "metadata": {},
   "outputs": [
    {
     "ename": "TypeError",
     "evalue": "list indices must be integers or slices, not str",
     "output_type": "error",
     "traceback": [
      "\u001b[1;31m---------------------------------------------------------------------------\u001b[0m",
      "\u001b[1;31mTypeError\u001b[0m                                 Traceback (most recent call last)",
      "Cell \u001b[1;32mIn[5], line 2\u001b[0m\n\u001b[0;32m      1\u001b[0m my_list\u001b[38;5;241m=\u001b[39m[\u001b[38;5;241m11\u001b[39m,\u001b[38;5;241m12\u001b[39m,\u001b[38;5;241m14\u001b[39m,\u001b[38;5;124m'\u001b[39m\u001b[38;5;124maayush\u001b[39m\u001b[38;5;124m'\u001b[39m,\u001b[38;5;241m15\u001b[39m,\u001b[38;5;241m16\u001b[39m,\u001b[38;5;241m17\u001b[39m,\u001b[38;5;241m30\u001b[39m,\u001b[38;5;241m45\u001b[39m,\u001b[38;5;241m70\u001b[39m]\n\u001b[1;32m----> 2\u001b[0m my_list[\u001b[38;5;124m\"\u001b[39m\u001b[38;5;124m2+5\u001b[39m\u001b[38;5;124m\"\u001b[39m]\n\u001b[0;32m      3\u001b[0m \u001b[38;5;28mprint\u001b[39m(my_list)\n",
      "\u001b[1;31mTypeError\u001b[0m: list indices must be integers or slices, not str"
     ]
    }
   ],
   "source": [
    "my_list=[11,12,14,'aayush',15,16,17,30,45,70]\n",
    "my_list[\"2+5\"]\n",
    "print(my_list)"
   ]
  },
  {
   "cell_type": "code",
   "execution_count": 13,
   "id": "268881a1",
   "metadata": {},
   "outputs": [
    {
     "name": "stdout",
     "output_type": "stream",
     "text": [
      "16\n"
     ]
    }
   ],
   "source": [
    "my_list=[11,12,14,'aayush',15,16,17,30,45,70]\n",
    "print(my_list[4-9])"
   ]
  },
  {
   "cell_type": "code",
   "execution_count": 14,
   "id": "7e66120b",
   "metadata": {},
   "outputs": [
    {
     "name": "stdout",
     "output_type": "stream",
     "text": [
      "[14, 'aayush', 15, 16, 17, 30]\n"
     ]
    }
   ],
   "source": [
    "my_list=[11,12,14,'aayush',15,16,17,30,45,70]\n",
    "print(my_list[2:8])"
   ]
  },
  {
   "cell_type": "code",
   "execution_count": 19,
   "id": "3a7fcc1f",
   "metadata": {},
   "outputs": [
    {
     "name": "stdout",
     "output_type": "stream",
     "text": [
      "[11, 12, 14, 'aayush', 15, 16, 17, 30, 45, 70]\n"
     ]
    }
   ],
   "source": [
    "my_list=[11,12,14,'aayush',15,16,17,30,45,70]\n",
    "print(my_list[:])"
   ]
  },
  {
   "cell_type": "code",
   "execution_count": 20,
   "id": "daf94e5b",
   "metadata": {},
   "outputs": [
    {
     "name": "stdout",
     "output_type": "stream",
     "text": [
      "[11, 14, 15, 17, 45]\n"
     ]
    }
   ],
   "source": [
    "my_list=[11,12,14,'aayush',15,16,17,30,45,70]\n",
    "print(my_list[::2])"
   ]
  },
  {
   "cell_type": "code",
   "execution_count": 21,
   "id": "6a39f442",
   "metadata": {},
   "outputs": [
    {
     "name": "stdout",
     "output_type": "stream",
     "text": [
      "[11, 12, 14, 35, 'aayush', 15, 16, 17, 30, 45, 70]\n"
     ]
    }
   ],
   "source": [
    "my_list=[11,12,14,'aayush',15,16,17,30,45,70]\n",
    "my_list.insert(3,35)\n",
    "print(my_list)"
   ]
  },
  {
   "cell_type": "code",
   "execution_count": 24,
   "id": "78299969",
   "metadata": {},
   "outputs": [
    {
     "name": "stdout",
     "output_type": "stream",
     "text": [
      "[11, 12, 14, 56, 15, 16, 17, 30, 45, 70]\n"
     ]
    }
   ],
   "source": [
    "my_list=[11,12,14,'aayush',15,16,17,30,45,70]\n",
    "my_list[3] = 56\n",
    "print(my_list)"
   ]
  },
  {
   "cell_type": "code",
   "execution_count": 23,
   "id": "7205c69c",
   "metadata": {},
   "outputs": [
    {
     "ename": "TypeError",
     "evalue": "list indices must be integers or slices, not float",
     "output_type": "error",
     "traceback": [
      "\u001b[1;31m---------------------------------------------------------------------------\u001b[0m",
      "\u001b[1;31mTypeError\u001b[0m                                 Traceback (most recent call last)",
      "Cell \u001b[1;32mIn[23], line 2\u001b[0m\n\u001b[0;32m      1\u001b[0m my_list\u001b[38;5;241m=\u001b[39m[\u001b[38;5;241m11\u001b[39m,\u001b[38;5;241m12\u001b[39m,\u001b[38;5;241m14\u001b[39m,\u001b[38;5;124m'\u001b[39m\u001b[38;5;124maayush\u001b[39m\u001b[38;5;124m'\u001b[39m,\u001b[38;5;241m15\u001b[39m,\u001b[38;5;241m16\u001b[39m,\u001b[38;5;241m17\u001b[39m,\u001b[38;5;241m30\u001b[39m,\u001b[38;5;241m45\u001b[39m,\u001b[38;5;241m70\u001b[39m]\n\u001b[1;32m----> 2\u001b[0m my_list[\u001b[38;5;241m0.5\u001b[39m] \u001b[38;5;241m=\u001b[39m [\u001b[38;5;241m56\u001b[39m]\n\u001b[0;32m      3\u001b[0m \u001b[38;5;28mprint\u001b[39m(my_list)\n",
      "\u001b[1;31mTypeError\u001b[0m: list indices must be integers or slices, not float"
     ]
    }
   ],
   "source": [
    "my_list=[11,12,14,'aayush',15,16,17,30,45,70]\n",
    "my_list[0.5] = 56\n",
    "print(my_list)"
   ]
  },
  {
   "cell_type": "code",
   "execution_count": 25,
   "id": "2299d8ff",
   "metadata": {},
   "outputs": [
    {
     "ename": "SyntaxError",
     "evalue": "invalid syntax (1333375379.py, line 1)",
     "output_type": "error",
     "traceback": [
      "\u001b[1;36m  Cell \u001b[1;32mIn[25], line 1\u001b[1;36m\u001b[0m\n\u001b[1;33m    my_list=[11,12,14,'aayush',15,16,17,30,,45,70]\u001b[0m\n\u001b[1;37m                                           ^\u001b[0m\n\u001b[1;31mSyntaxError\u001b[0m\u001b[1;31m:\u001b[0m invalid syntax\n"
     ]
    }
   ],
   "source": [
    "my_list=[11,12,14,'aayush',15,16,17,30,,45,70]\n",
    "my_list[0],my_list[3] = 20.6\n",
    "print(my_list)"
   ]
  },
  {
   "cell_type": "code",
   "execution_count": 30,
   "id": "494f83f4",
   "metadata": {},
   "outputs": [
    {
     "name": "stdout",
     "output_type": "stream",
     "text": [
      "[]\n"
     ]
    }
   ],
   "source": [
    "my_list=[11,12,14,'aayush',15,16,17,30,45,70]\n",
    "my_list.clear()\n",
    "print(my_list)"
   ]
  },
  {
   "cell_type": "code",
   "execution_count": 11,
   "id": "4a5309bf",
   "metadata": {},
   "outputs": [
    {
     "name": "stdout",
     "output_type": "stream",
     "text": [
      "<built-in method index of list object at 0x0000020EAFAAD2C0>\n"
     ]
    }
   ],
   "source": [
    "my_list=[11,12,14,'aayush',15,16,17,30,45,70]\n",
    "print(my_list.index)"
   ]
  },
  {
   "cell_type": "code",
   "execution_count": 12,
   "id": "4c14023e",
   "metadata": {},
   "outputs": [
    {
     "name": "stdout",
     "output_type": "stream",
     "text": [
      "[14, 16, 45]\n"
     ]
    }
   ],
   "source": [
    "my_list=[11,12,14,'aayush',15,16,17,30,45,70]\n",
    "print(my_list[2:9:3])"
   ]
  },
  {
   "cell_type": "code",
   "execution_count": 35,
   "id": "ef55091d",
   "metadata": {},
   "outputs": [
    {
     "name": "stdout",
     "output_type": "stream",
     "text": [
      "[14, 16]\n"
     ]
    }
   ],
   "source": [
    "my_list=[11,12,14,'aayush',15,16,17,30,45,70]\n",
    "print(my_list[2:7:3])"
   ]
  },
  {
   "cell_type": "code",
   "execution_count": 3,
   "id": "9a3d91aa",
   "metadata": {},
   "outputs": [
    {
     "ename": "ValueError",
     "evalue": "14 is not in list",
     "output_type": "error",
     "traceback": [
      "\u001b[1;31m---------------------------------------------------------------------------\u001b[0m",
      "\u001b[1;31mValueError\u001b[0m                                Traceback (most recent call last)",
      "Cell \u001b[1;32mIn[3], line 2\u001b[0m\n\u001b[0;32m      1\u001b[0m my_list\u001b[38;5;241m=\u001b[39m[\u001b[38;5;241m11\u001b[39m,\u001b[38;5;241m12\u001b[39m,\u001b[38;5;241m14\u001b[39m,\u001b[38;5;124m'\u001b[39m\u001b[38;5;124maayush\u001b[39m\u001b[38;5;124m'\u001b[39m,\u001b[38;5;241m15\u001b[39m,\u001b[38;5;241m16\u001b[39m,\u001b[38;5;241m17\u001b[39m,\u001b[38;5;241m30\u001b[39m,\u001b[38;5;241m45\u001b[39m,\u001b[38;5;241m70\u001b[39m]\n\u001b[1;32m----> 2\u001b[0m \u001b[38;5;28mprint\u001b[39m(my_list\u001b[38;5;241m.\u001b[39mindex(\u001b[38;5;241m14\u001b[39m,\u001b[38;5;241m17\u001b[39m,\u001b[38;5;241m30\u001b[39m))\n",
      "\u001b[1;31mValueError\u001b[0m: 14 is not in list"
     ]
    }
   ],
   "source": [
    "my_list=[11,12,14,'aayush',15,16,17,30,45,70]\n",
    "print(my_list.index(14,17,30))"
   ]
  },
  {
   "cell_type": "code",
   "execution_count": 2,
   "id": "6f289d56",
   "metadata": {},
   "outputs": [
    {
     "name": "stdout",
     "output_type": "stream",
     "text": [
      "chirag\n"
     ]
    }
   ],
   "source": [
    "print('chirag')"
   ]
  },
  {
   "cell_type": "code",
   "execution_count": 6,
   "id": "b11e145a",
   "metadata": {},
   "outputs": [
    {
     "name": "stdout",
     "output_type": "stream",
     "text": [
      "[11, 12, 'm', 'e', 'h', 'u', 'l', 15, 16, 17, 30, 45, 70]\n"
     ]
    }
   ],
   "source": [
    "my_list=[11,12,14,'aayush',15,16,17,30,45,70]\n",
    "my_list[2:4]='mehul'\n",
    "print(my_list)"
   ]
  },
  {
   "cell_type": "code",
   "execution_count": 7,
   "id": "afd30497",
   "metadata": {},
   "outputs": [
    {
     "ename": "TypeError",
     "evalue": "can only assign an iterable",
     "output_type": "error",
     "traceback": [
      "\u001b[1;31m---------------------------------------------------------------------------\u001b[0m",
      "\u001b[1;31mTypeError\u001b[0m                                 Traceback (most recent call last)",
      "Cell \u001b[1;32mIn[7], line 2\u001b[0m\n\u001b[0;32m      1\u001b[0m my_list\u001b[38;5;241m=\u001b[39m[\u001b[38;5;241m11\u001b[39m,\u001b[38;5;241m12\u001b[39m,\u001b[38;5;241m14\u001b[39m,\u001b[38;5;124m'\u001b[39m\u001b[38;5;124maayush\u001b[39m\u001b[38;5;124m'\u001b[39m,\u001b[38;5;241m15\u001b[39m,\u001b[38;5;241m16\u001b[39m,\u001b[38;5;241m17\u001b[39m,\u001b[38;5;241m30\u001b[39m,\u001b[38;5;241m45\u001b[39m,\u001b[38;5;241m70\u001b[39m]\n\u001b[1;32m----> 2\u001b[0m my_list[\u001b[38;5;241m2\u001b[39m:\u001b[38;5;241m4\u001b[39m]\u001b[38;5;241m=\u001b[39m\u001b[38;5;241m22\u001b[39m\n\u001b[0;32m      3\u001b[0m \u001b[38;5;28mprint\u001b[39m(my_list)\n",
      "\u001b[1;31mTypeError\u001b[0m: can only assign an iterable"
     ]
    }
   ],
   "source": [
    "my_list=[11,12,14,'aayush',15,16,17,30,45,70]\n",
    "my_list[2:4]=22\n",
    "print(my_list)"
   ]
  },
  {
   "cell_type": "code",
   "execution_count": 8,
   "id": "cabff8ea",
   "metadata": {},
   "outputs": [
    {
     "name": "stdout",
     "output_type": "stream",
     "text": [
      "[11, 12, 22, 15, 16, 17, 30, 45, 70]\n"
     ]
    }
   ],
   "source": [
    "my_list=[11,12,14,'aayush',15,16,17,30,45,70]\n",
    "my_list[2:4]=[22]\n",
    "print(my_list)"
   ]
  },
  {
   "cell_type": "code",
   "execution_count": 9,
   "id": "bf1cba23",
   "metadata": {},
   "outputs": [
    {
     "name": "stdout",
     "output_type": "stream",
     "text": [
      "[11, 12, 22, 46, 15, 16, 17, 30, 45, 70]\n"
     ]
    }
   ],
   "source": [
    "my_list=[11,12,14,'aayush',15,16,17,30,45,70]\n",
    "my_list[2:4]=22,46\n",
    "print(my_list)"
   ]
  },
  {
   "cell_type": "code",
   "execution_count": 14,
   "id": "641569e3",
   "metadata": {},
   "outputs": [
    {
     "name": "stdout",
     "output_type": "stream",
     "text": [
      "[11, 12, 22, 46, 66, 15, 16, 17, 30, 45, 70]\n"
     ]
    }
   ],
   "source": [
    "my_list=[11,12,14,'aayush',15,16,17,30,45,70]\n",
    "my_list[2:4]=22,46,66\n",
    "print(my_list)"
   ]
  },
  {
   "cell_type": "code",
   "execution_count": 21,
   "id": "a2d99e66",
   "metadata": {},
   "outputs": [],
   "source": [
    "my_list=[11,12,14,'aayush',15,16,17,30,45,70]\n",
    "my_list[2:4]=22,46\n",
    "# print(my_list)"
   ]
  },
  {
   "cell_type": "code",
   "execution_count": 22,
   "id": "ab1eda3b",
   "metadata": {},
   "outputs": [
    {
     "name": "stdout",
     "output_type": "stream",
     "text": [
      "set['aayush', 'mehul', 'himanshu']\n"
     ]
    }
   ],
   "source": [
    "z= ['aayush','mehul','himanshu']\n",
    "z=set['aayush','mehul','himanshu']\n",
    "print(z)"
   ]
  },
  {
   "cell_type": "code",
   "execution_count": 26,
   "id": "e534f259",
   "metadata": {},
   "outputs": [
    {
     "ename": "SyntaxError",
     "evalue": "invalid syntax (673908871.py, line 1)",
     "output_type": "error",
     "traceback": [
      "\u001b[1;36m  Cell \u001b[1;32mIn[26], line 1\u001b[1;36m\u001b[0m\n\u001b[1;33m    z=set{'aayush','mehul',[1,2,6]}\u001b[0m\n\u001b[1;37m         ^\u001b[0m\n\u001b[1;31mSyntaxError\u001b[0m\u001b[1;31m:\u001b[0m invalid syntax\n"
     ]
    }
   ],
   "source": [
    "z=set{'aayush','mehul',[1,2,6]}\n",
    "print(z)"
   ]
  },
  {
   "cell_type": "markdown",
   "id": "dace3dd5",
   "metadata": {},
   "source": [
    "# empty set\n",
    "when we don't pass any itemto tha set constructor than it will create an empty set\n",
    "- set is iterable- in python, an \"iterable\" refers to an object that can be iterable over, meaning you can through its elements one by one iterable are a fundamental concept in python's iterable protocol and they are used in various contexts where you need to process elements sequentially such as in loops and comprehension expressions examples of built-in python iterable include lists, tuple,strings dictionaries (when iterable over keys,value of item),sets, and more."
   ]
  },
  {
   "cell_type": "code",
   "execution_count": 27,
   "id": "ef3e6889",
   "metadata": {},
   "outputs": [
    {
     "ename": "SyntaxError",
     "evalue": "invalid syntax (255012698.py, line 1)",
     "output_type": "error",
     "traceback": [
      "\u001b[1;36m  Cell \u001b[1;32mIn[27], line 1\u001b[1;36m\u001b[0m\n\u001b[1;33m    set{}\u001b[0m\n\u001b[1;37m       ^\u001b[0m\n\u001b[1;31mSyntaxError\u001b[0m\u001b[1;31m:\u001b[0m invalid syntax\n"
     ]
    }
   ],
   "source": [
    "set{}\n"
   ]
  },
  {
   "cell_type": "code",
   "execution_count": 1,
   "id": "9b9e5838",
   "metadata": {},
   "outputs": [],
   "source": [
    "z=set['aayush','mehul','himanshu']"
   ]
  },
  {
   "cell_type": "code",
   "execution_count": 6,
   "id": "d4c325f4",
   "metadata": {},
   "outputs": [
    {
     "ename": "SyntaxError",
     "evalue": "invalid syntax (509861131.py, line 1)",
     "output_type": "error",
     "traceback": [
      "\u001b[1;36m  Cell \u001b[1;32mIn[6], line 1\u001b[1;36m\u001b[0m\n\u001b[1;33m    emos\",\"atlas shrugged\"}book_set = {\"harry potter\",\"angels and d\u001b[0m\n\u001b[1;37m        ^\u001b[0m\n\u001b[1;31mSyntaxError\u001b[0m\u001b[1;31m:\u001b[0m invalid syntax\n"
     ]
    }
   ],
   "source": [
    "emos\",\"atlas shrugged\"}book_set = {\"harry potter\",\"angels and d"
   ]
  },
  {
   "cell_type": "code",
   "execution_count": 8,
   "id": "adc81556",
   "metadata": {},
   "outputs": [
    {
     "data": {
      "text/plain": [
       "3"
      ]
     },
     "execution_count": 8,
     "metadata": {},
     "output_type": "execute_result"
    }
   ],
   "source": [
    "book_set = {\"harry potter\",\"aayush\",\"mehul\"}\n",
    "len(book_set)"
   ]
  },
  {
   "cell_type": "code",
   "execution_count": 6,
   "id": "96e8e67e",
   "metadata": {},
   "outputs": [
    {
     "name": "stdout",
     "output_type": "stream",
     "text": [
      "2600949075520\n",
      "{56, 'harry potter', 'aayush', 'mehul'}\n"
     ]
    }
   ],
   "source": [
    "book_set = {\"harry potter\",\"aayush\",\"mehul\"}\n",
    "print(id(book_set))\n",
    "\n",
    "book_set.update([56])\n",
    "print(book_set)\n"
   ]
  },
  {
   "cell_type": "markdown",
   "id": "d31b866c",
   "metadata": {},
   "source": [
    "# removing item a set\n",
    "remov(),discart(),pop(),clear(),dal set"
   ]
  },
  {
   "cell_type": "code",
   "execution_count": 34,
   "id": "64a7fbc3",
   "metadata": {},
   "outputs": [
    {
     "name": "stdout",
     "output_type": "stream",
     "text": [
      "{'neraj', 'aayush', 'himanshu'}\n"
     ]
    }
   ],
   "source": [
    "my_list={'aayush','neraj','yesh','himanshu'}\n",
    "my_list.remove('yesh')\n",
    "print(my_list)"
   ]
  },
  {
   "cell_type": "code",
   "execution_count": 1,
   "id": "c7fc5d9a",
   "metadata": {},
   "outputs": [
    {
     "name": "stdout",
     "output_type": "stream",
     "text": [
      "{'yesh', 'aayush', 'himanshu'}\n"
     ]
    }
   ],
   "source": [
    "my_list={'aayush','neraj','yesh','himanshu'}\n",
    "my_list.remove('neraj')\n",
    "print(my_list)"
   ]
  },
  {
   "cell_type": "code",
   "execution_count": 10,
   "id": "0f75be42",
   "metadata": {},
   "outputs": [
    {
     "name": "stdout",
     "output_type": "stream",
     "text": [
      "{'himanshu', 'aayush', 'neraj'}\n"
     ]
    },
    {
     "data": {
      "text/plain": [
       "set"
      ]
     },
     "execution_count": 10,
     "metadata": {},
     "output_type": "execute_result"
    }
   ],
   "source": [
    "my_list={'aayush','neraj','yesh','himanshu'}\n",
    "my_list.discard('yesh')\n",
    "print(my_list)\n",
    "type(my_list)"
   ]
  },
  {
   "cell_type": "code",
   "execution_count": 13,
   "id": "1d01c166",
   "metadata": {},
   "outputs": [
    {
     "ename": "TypeError",
     "evalue": "set.pop() takes no arguments (1 given)",
     "output_type": "error",
     "traceback": [
      "\u001b[1;31m---------------------------------------------------------------------------\u001b[0m",
      "\u001b[1;31mTypeError\u001b[0m                                 Traceback (most recent call last)",
      "Cell \u001b[1;32mIn[13], line 2\u001b[0m\n\u001b[0;32m      1\u001b[0m my_list\u001b[38;5;241m=\u001b[39m{\u001b[38;5;124m'\u001b[39m\u001b[38;5;124maayush\u001b[39m\u001b[38;5;124m'\u001b[39m,\u001b[38;5;124m'\u001b[39m\u001b[38;5;124mneraj\u001b[39m\u001b[38;5;124m'\u001b[39m,\u001b[38;5;124m'\u001b[39m\u001b[38;5;124myesh\u001b[39m\u001b[38;5;124m'\u001b[39m,\u001b[38;5;124m'\u001b[39m\u001b[38;5;124mhimanshu\u001b[39m\u001b[38;5;124m'\u001b[39m}\n\u001b[1;32m----> 2\u001b[0m my_list\u001b[38;5;241m.\u001b[39mpop(\u001b[38;5;241m2\u001b[39m)\n\u001b[0;32m      3\u001b[0m \u001b[38;5;28mprint\u001b[39m(my_list)\n\u001b[0;32m      4\u001b[0m \u001b[38;5;28mtype\u001b[39m(my_list)\n",
      "\u001b[1;31mTypeError\u001b[0m: set.pop() takes no arguments (1 given)"
     ]
    }
   ],
   "source": [
    "my_list={'aayush','neraj','yesh','himanshu'}\n",
    "my_list.pop(2)\n",
    "print(my_list)\n",
    "type(my_list)"
   ]
  },
  {
   "cell_type": "markdown",
   "id": "3c6d4b19",
   "metadata": {},
   "source": [
    "### tha remove()method throws a keyerror if item you want to delete is not present in a set\n",
    "### tha discard ()method will not throw any error if tha itam you want to delete is not present in a set"
   ]
  },
  {
   "cell_type": "markdown",
   "id": "f84d4bb2",
   "metadata": {},
   "source": [
    "# union of set,"
   ]
  },
  {
   "cell_type": "code",
   "execution_count": 3,
   "id": "830f3d41",
   "metadata": {},
   "outputs": [
    {
     "name": "stdout",
     "output_type": "stream",
     "text": [
      "2831034355712\n",
      "2831034355488\n",
      "{'violst', 'orang', 'red', 'indigo', 'yello', 'blue,green'}\n",
      "2831034353696\n"
     ]
    }
   ],
   "source": [
    "color_set = {'violst','indigo', 'blue,green','yello'}\n",
    "print(id(color_set))\n",
    "\n",
    "\n",
    "print(id(remaining_colors))\n",
    "\n",
    "# union using.union() method\n",
    "vibgyor_colors = color_set.union(remaining_colors)\n",
    "print(vibgyor_colors)\n",
    "print(id(vibgyor_colors))"
   ]
  },
  {
   "cell_type": "code",
   "execution_count": 6,
   "id": "5acdd088",
   "metadata": {},
   "outputs": [
    {
     "name": "stdout",
     "output_type": "stream",
     "text": [
      "{'yello', 'blue,green', 'indigo', 'orang', 'violst', 'pink', 'red', 'black'}\n"
     ]
    }
   ],
   "source": [
    "color_set = {'violst','indigo', 'blue,green','yello'}\n",
    "remaining_colors = {'indigo','orang','red'}\n",
    "extra_colors={'black','pink'}                  # Add extra colors this types\n",
    "vibgyor_colors = color_set.union(remaining_colors,extra_colors)\n",
    "print(vibgyor_colors)"
   ]
  },
  {
   "cell_type": "code",
   "execution_count": 7,
   "id": "d8b91dc7",
   "metadata": {},
   "outputs": [
    {
     "name": "stdout",
     "output_type": "stream",
     "text": [
      "{'yello', 'blue,green', 'indigo', 'orang', 'violst', 'pink', 'red', 'black'}\n"
     ]
    }
   ],
   "source": [
    "color_set = {'violst','indigo', 'blue,green','yello'}\n",
    "remaining_colors = {'indigo','orang','red'} \n",
    "extra_colors={'black','pink'}\n",
    "vibgyor_colors = color_set.union(remaining_colors,extra_colors)\n",
    "print(vibgyor_colors)"
   ]
  },
  {
   "cell_type": "markdown",
   "id": "c0d0e783",
   "metadata": {},
   "source": [
    "# Intersection of set"
   ]
  },
  {
   "cell_type": "code",
   "execution_count": 16,
   "id": "ced716c3",
   "metadata": {},
   "outputs": [
    {
     "name": "stdout",
     "output_type": "stream",
     "text": [
      "set()\n"
     ]
    }
   ],
   "source": [
    "color_set = {'violst','indigo', 'blue,green','yello'}\n",
    "remaining_colors = {'indigo','orang','red'}\n",
    "extra_colors={'black','pink'}\n",
    "vibgyor_colors = color_set.intersection(remaining_colors,extra_colors)\n",
    "print(vibgyor_colors)"
   ]
  },
  {
   "cell_type": "markdown",
   "id": "5b63ec04",
   "metadata": {},
   "source": [
    "# Intersection update\n",
    "\n",
    "defrenc betwine intersection and intersection update\n",
    "\n",
    "intersection will not update tha original set but intersection_update will original set will only tha common elements intersection will have a return value which is tha new set with common elements between two or more sets whereas intersection_update will have not any return value. let as sec that"
   ]
  },
  {
   "cell_type": "code",
   "execution_count": 21,
   "id": "14b4acdd",
   "metadata": {},
   "outputs": [
    {
     "name": "stdout",
     "output_type": "stream",
     "text": [
      "2219926097472\n",
      "{'indigo'}\n",
      "{'yello', 'blue,green', 'violst', 'indigo'}\n",
      "2219926097472\n",
      "{'indigo'}\n",
      "2219926097472\n"
     ]
    }
   ],
   "source": [
    "color_set = {'violst','indigo', 'blue,green','yello'}\n",
    "print(id(color_set))\n",
    "remaining_colors = {'indigo','orang','red'}\n",
    "\n",
    "common_colors = color_set.intersection(remaining_colors)\n",
    "print(common_colors)\n",
    "print(color_set)\n",
    "print(id(color_set))\n",
    "\n",
    "color_set.intersection_update(remaining_colors)\n",
    "print(color_set)\n",
    "print(id(color_set))"
   ]
  },
  {
   "cell_type": "code",
   "execution_count": 13,
   "id": "296eda5e",
   "metadata": {},
   "outputs": [
    {
     "name": "stdout",
     "output_type": "stream",
     "text": [
      "{'indigo'}\n"
     ]
    }
   ],
   "source": [
    "color_set = {'violst','indigo', 'blue','green','yello'}\n",
    "remaining_colors = {'indigo','orang','red'}\n",
    "\n",
    "common_colors = color_set.intersection(remaining_colors)\n",
    "print(common_colors)"
   ]
  },
  {
   "cell_type": "code",
   "execution_count": 14,
   "id": "16456ef4",
   "metadata": {},
   "outputs": [
    {
     "name": "stdout",
     "output_type": "stream",
     "text": [
      "{'indigo'}\n"
     ]
    }
   ],
   "source": [
    "color_set = {'violst','indigo', 'blue','green','yello'}\n",
    "remaining_colors = {'indigo','orang','red'}\n",
    "color_set.intersection_update(remaining_colors)\n",
    "print(color_set)"
   ]
  },
  {
   "cell_type": "markdown",
   "id": "05719aff",
   "metadata": {},
   "source": [
    "###### color_set = {'violst','indigo', 'blue','green','yello'}\n",
    "remaining_colors = {'indigo','orang','red'}\n",
    "color_set.intersection_update(remaining_colors)\n",
    "print(color_set)"
   ]
  },
  {
   "cell_type": "markdown",
   "id": "9b81ec1d",
   "metadata": {},
   "source": [
    "# Difference of sets"
   ]
  },
  {
   "cell_type": "code",
   "execution_count": 1,
   "id": "eca0261a",
   "metadata": {},
   "outputs": [
    {
     "name": "stdout",
     "output_type": "stream",
     "text": [
      "{'blue', 'yello', 'green', 'violst'}\n"
     ]
    }
   ],
   "source": [
    "color_set = {'violst','indigo', 'blue','green','yello'}\n",
    "remaining_colors = {'indigo','orang','red'}\n",
    "print(color_set.difference(remaining_colors))"
   ]
  },
  {
   "cell_type": "markdown",
   "id": "6e48db26",
   "metadata": {},
   "source": [
    "# Difference_update"
   ]
  },
  {
   "cell_type": "code",
   "execution_count": 2,
   "id": "c907984c",
   "metadata": {},
   "outputs": [
    {
     "name": "stdout",
     "output_type": "stream",
     "text": [
      "{'blue', 'green', 'indigo', 'violst', 'yello'}\n",
      "{'blue', 'green', 'violst', 'yello'}\n"
     ]
    }
   ],
   "source": [
    "color_set = {'violst','indigo', 'blue','green','yello'}\n",
    "remaining_colors = {'indigo','orang','red'}\n",
    "print(color_set)\n",
    "color_set.difference_update(remaining_colors)\n",
    "print(color_set)"
   ]
  },
  {
   "cell_type": "code",
   "execution_count": 3,
   "id": "d0794d69",
   "metadata": {},
   "outputs": [
    {
     "name": "stdout",
     "output_type": "stream",
     "text": [
      "1639237618592\n",
      "{'blue', 'yello', 'green', 'violst'}\n",
      "{'blue', 'green', 'indigo', 'violst', 'yello'}\n",
      "1639237618592\n",
      "{'blue', 'green', 'violst', 'yello'}\n",
      "1639237618592\n"
     ]
    }
   ],
   "source": [
    "color_set = {'violst','indigo', 'blue','green','yello'}\n",
    "print(id(color_set))\n",
    "remaining_colors = {'indigo','orang','red'}\n",
    "\n",
    "common_colors = color_set.difference(remaining_colors)\n",
    "print(common_colors)\n",
    "print(color_set)\n",
    "print(id(color_set))\n",
    "\n",
    "color_set.difference_update(remaining_colors)\n",
    "print(color_set)\n",
    "print(id(color_set))"
   ]
  },
  {
   "cell_type": "code",
   "execution_count": 4,
   "id": "f4d367f3",
   "metadata": {},
   "outputs": [
    {
     "name": "stdout",
     "output_type": "stream",
     "text": [
      "1639237617696\n",
      "{'blue', 'yello', 'green', 'violst'}\n",
      "{'blue', 'green', 'indigo', 'violst', 'yello'}\n",
      "1639237617696\n",
      "{'blue', 'green', 'violst', 'yello'}\n",
      "1639237617696\n"
     ]
    }
   ],
   "source": [
    "color_set = {'violst','indigo', 'blue','green','yello'}\n",
    "print(id(color_set))\n",
    "remaining_colors = {'indigo','orang','red'}\n",
    "\n",
    "common_colors = color_set.difference(remaining_colors)\n",
    "print(common_colors)\n",
    "print(color_set)\n",
    "print(id(color_set))           # id change becos sall is change\n",
    "\n",
    "color_set.difference_update(remaining_colors)\n",
    "print(color_set)\n",
    "print(id(color_set))"
   ]
  },
  {
   "cell_type": "code",
   "execution_count": 22,
   "id": "a18880e7",
   "metadata": {},
   "outputs": [
    {
     "name": "stdout",
     "output_type": "stream",
     "text": [
      "2706320662464\n",
      "{'violst', 'yello', 'blue,green'}\n",
      "{'violst', 'indigo', 'yello', 'blue,green'}\n",
      "2706320662464\n",
      "{'violst', 'yello', 'blue,green'}\n",
      "2706320662464\n"
     ]
    }
   ],
   "source": [
    "color_set = {'violst','indigo', 'blue,green','yello'}\n",
    "print(id(color_set))\n",
    "remaining_colors = {'indigo','orang','red'}\n",
    "\n",
    "common_colors = color_set.difference(remaining_colors)\n",
    "print(common_colors)\n",
    "print(color_set)\n",
    "print(id(color_set))\n",
    "\n",
    "color_set.difference_update(remaining_colors)\n",
    "print(color_set)\n",
    "print(id(color_set))"
   ]
  },
  {
   "cell_type": "code",
   "execution_count": 2,
   "id": "bc5d6b81",
   "metadata": {},
   "outputs": [
    {
     "name": "stdout",
     "output_type": "stream",
     "text": [
      "1757430904448\n",
      "{'blue,green', 'violst', 'yello'}\n",
      "{'indigo', 'violst', 'blue,green', 'yello'}\n",
      "1757430904448\n"
     ]
    },
    {
     "ename": "NameError",
     "evalue": "name 'colos_set' is not defined",
     "output_type": "error",
     "traceback": [
      "\u001b[1;31m---------------------------------------------------------------------------\u001b[0m",
      "\u001b[1;31mNameError\u001b[0m                                 Traceback (most recent call last)",
      "Cell \u001b[1;32mIn[2], line 10\u001b[0m\n\u001b[0;32m      7\u001b[0m \u001b[38;5;28mprint\u001b[39m(color_set)\n\u001b[0;32m      8\u001b[0m \u001b[38;5;28mprint\u001b[39m(\u001b[38;5;28mid\u001b[39m(color_set))\n\u001b[1;32m---> 10\u001b[0m colos_set\u001b[38;5;241m.\u001b[39mdifference_update(ramaining_colors)\n\u001b[0;32m     11\u001b[0m \u001b[38;5;28mprint\u001b[39m(color_set)\n\u001b[0;32m     12\u001b[0m \u001b[38;5;28mprint\u001b[39m(\u001b[38;5;28mid\u001b[39m(color_set))\n",
      "\u001b[1;31mNameError\u001b[0m: name 'colos_set' is not defined"
     ]
    }
   ],
   "source": [
    "color_set = {'violst','indigo', 'blue,green','yello'}\n",
    "print(id(color_set))\n",
    "remaining_colors = {'indigo','orang','red'}\n",
    "\n",
    "common_colors = color_set.difference(remaining_colors)\n",
    "print(common_colors)\n",
    "print(color_set)\n",
    "print(id(color_set))\n",
    "\n",
    "colos_set.difference_update(ramaining_colors)\n",
    "print(color_set)\n",
    "print(id(color_set))"
   ]
  },
  {
   "cell_type": "code",
   "execution_count": 15,
   "id": "03b399d8",
   "metadata": {},
   "outputs": [
    {
     "name": "stdout",
     "output_type": "stream",
     "text": [
      "1727365810880\n",
      "{'violst', 'blue,green', 'yello'}\n",
      "{'violst', 'indigo', 'blue,green', 'yello'}\n",
      "1727365810880\n",
      "{'violst', 'blue,green', 'yello'}\n",
      "{'violst', 'blue,green', 'yello'}\n",
      "1727365810880\n"
     ]
    }
   ],
   "source": [
    "color_set = {'violst','indigo', 'blue,green','yello'}\n",
    "print(id(color_set))\n",
    "remaining_colors = {'indigo','orang','red'}\n",
    "\n",
    "common_colors = color_set.difference(remaining_colors)\n",
    "print(common_colors)\n",
    "print(color_set)\n",
    "print(id(color_set))\n",
    "\n",
    "color_set.difference_update(remaining_colors)\n",
    "print(color_set)\n",
    "print(color_set)\n",
    "print(id(color_set))"
   ]
  },
  {
   "cell_type": "code",
   "execution_count": 4,
   "id": "fee2942b",
   "metadata": {},
   "outputs": [
    {
     "ename": "SyntaxError",
     "evalue": "expected ':' (3932922109.py, line 2)",
     "output_type": "error",
     "traceback": [
      "\u001b[1;36m  Cell \u001b[1;32mIn[4], line 2\u001b[1;36m\u001b[0m\n\u001b[1;33m    if 2 and 9 in list\u001b[0m\n\u001b[1;37m                      ^\u001b[0m\n\u001b[1;31mSyntaxError\u001b[0m\u001b[1;31m:\u001b[0m expected ':'\n"
     ]
    }
   ],
   "source": [
    "my_list= {1,4,67,8,54,3,23,87}\n",
    "if 2 and 9 in list\n",
    "print('yes','no')"
   ]
  },
  {
   "cell_type": "code",
   "execution_count": null,
   "id": "39fbe1d4",
   "metadata": {},
   "outputs": [],
   "source": [
    "my_list= {1,4,67,8,54,3,23,87}\n",
    "if 2 and 9 in list\n",
    "print('yes','no')"
   ]
  },
  {
   "cell_type": "code",
   "execution_count": 5,
   "id": "ad5b1d2a",
   "metadata": {},
   "outputs": [
    {
     "name": "stdout",
     "output_type": "stream",
     "text": [
      "1727352650464\n",
      "{'violst', 'blue,green', 'yello'}\n",
      "{'violst', 'indigo', 'blue,green', 'yello'}\n",
      "1727352650464\n"
     ]
    }
   ],
   "source": [
    "color_set = {'violst','indigo', 'blue,green','yello'}\n",
    "print(id(color_set))\n",
    "remaining_colors = {'indigo','orang','red'}\n",
    "\n",
    "common_colors = color_set.difference(remaining_colors)\n",
    "print(common_colors)\n",
    "print(color_set)\n",
    "print(id(color_set))\n"
   ]
  },
  {
   "cell_type": "code",
   "execution_count": 1,
   "id": "c39b8cce",
   "metadata": {},
   "outputs": [
    {
     "name": "stdout",
     "output_type": "stream",
     "text": [
      "1940791953440\n",
      "{'blue,green', 'violst', 'yello'}\n",
      "1940791953440\n",
      "{'blue,green', 'violst', 'yello'}\n",
      "{'blue,green', 'violst', 'yello'}\n",
      "1940791953440\n"
     ]
    }
   ],
   "source": [
    "color_set = {'violst','indigo', 'blue,green','yello'}\n",
    "print(id(color_set))\n",
    "remaining_colors = {'indigo','orang','red'}\n",
    "\n",
    "common_colors = color_set.difference(remaining_colors)\n",
    "print(common_colors)\n",
    "print(id(color_set))\n",
    "\n",
    "color_set.difference_update(remaining_colors)\n",
    "print(color_set)\n",
    "print(color_set)\n",
    "print(id(color_set))"
   ]
  },
  {
   "cell_type": "markdown",
   "id": "d27d48dd",
   "metadata": {},
   "source": [
    "# Symmetric difference of sets\n",
    "\n",
    "tha symmetric difference operation, this opratuon is don by using tha symmetric_difference()"
   ]
  },
  {
   "cell_type": "code",
   "execution_count": 10,
   "id": "aa59fc6c",
   "metadata": {},
   "outputs": [
    {
     "name": "stdout",
     "output_type": "stream",
     "text": [
      "{'orang', 'violst', 'blue,green', 'yello', 'red'}\n"
     ]
    }
   ],
   "source": [
    "color_set = {'violst','indigo', 'blue,green','yello'}\n",
    "remaining_colors = {'indigo','orang','red'}\n",
    " \n",
    "common_colors = color_set.symmetric_difference(remaining_colors)\n",
    "print(common_colors)"
   ]
  },
  {
   "cell_type": "markdown",
   "id": "b410423f",
   "metadata": {},
   "source": [
    "# Subset and superset\n",
    "\n",
    "in python, we con find whether a set is a subset or superset of another set. we \n",
    "need to use tha set methods "
   ]
  },
  {
   "cell_type": "code",
   "execution_count": 2,
   "id": "a16261a5",
   "metadata": {},
   "outputs": [
    {
     "ename": "TypeError",
     "evalue": "'set' object is not callable",
     "output_type": "error",
     "traceback": [
      "\u001b[1;31m---------------------------------------------------------------------------\u001b[0m",
      "\u001b[1;31mTypeError\u001b[0m                                 Traceback (most recent call last)",
      "Cell \u001b[1;32mIn[2], line 4\u001b[0m\n\u001b[0;32m      1\u001b[0m color_set \u001b[38;5;241m=\u001b[39m {\u001b[38;5;124m'\u001b[39m\u001b[38;5;124mviolst\u001b[39m\u001b[38;5;124m'\u001b[39m,\u001b[38;5;124m'\u001b[39m\u001b[38;5;124mindigo\u001b[39m\u001b[38;5;124m'\u001b[39m, \u001b[38;5;124m'\u001b[39m\u001b[38;5;124mblue,green\u001b[39m\u001b[38;5;124m'\u001b[39m,\u001b[38;5;124m'\u001b[39m\u001b[38;5;124myello\u001b[39m\u001b[38;5;124m'\u001b[39m}\n\u001b[0;32m      2\u001b[0m remaining_colors \u001b[38;5;241m=\u001b[39m {\u001b[38;5;124m'\u001b[39m\u001b[38;5;124mindigo\u001b[39m\u001b[38;5;124m'\u001b[39m,\u001b[38;5;124m'\u001b[39m\u001b[38;5;124morang\u001b[39m\u001b[38;5;124m'\u001b[39m,\u001b[38;5;124m'\u001b[39m\u001b[38;5;124mred\u001b[39m\u001b[38;5;124m'\u001b[39m}\n\u001b[1;32m----> 4\u001b[0m common_colors \u001b[38;5;241m=\u001b[39m color_set(remaining_colors)\n\u001b[0;32m      5\u001b[0m \u001b[38;5;28mprint\u001b[39m(common_colors)\n\u001b[0;32m      6\u001b[0m \u001b[38;5;28mprint\u001b[39m(color_set)\n",
      "\u001b[1;31mTypeError\u001b[0m: 'set' object is not callable"
     ]
    }
   ],
   "source": [
    "color_set = {'violst','indigo', 'blue,green','yello'}\n",
    "remaining_colors = {'indigo','orang','red'}\n",
    " \n",
    "common_colors = color_set(remaining_colors)\n",
    "print(common_colors)\n",
    "print(color_set)\n"
   ]
  },
  {
   "cell_type": "markdown",
   "id": "ede6f3a3",
   "metadata": {},
   "source": [
    "# sort tha set\n",
    "\n",
    "a set is an unordered collection of data item.so there so there is no point in sorting it.if you still want to soet it using tha sorted()methed"
   ]
  },
  {
   "cell_type": "code",
   "execution_count": 25,
   "id": "f3bd37e5",
   "metadata": {},
   "outputs": [
    {
     "name": "stdout",
     "output_type": "stream",
     "text": [
      "[4, 20, 45, 56, 62, 82, 89]\n"
     ]
    },
    {
     "data": {
      "text/plain": [
       "list"
      ]
     },
     "execution_count": 25,
     "metadata": {},
     "output_type": "execute_result"
    }
   ],
   "source": [
    "setl = {20,56,4,62,45,89,82}\n",
    "sorted_list = sorted(setl)\n",
    "print(sorted_list)\n",
    "type(sorted_list)"
   ]
  },
  {
   "cell_type": "markdown",
   "id": "4ea9c5ef",
   "metadata": {},
   "source": [
    "# frozen set\n",
    "\n",
    "A frozenset is an immutable set. frozen set is thus an unordered collection of immutable unique items.\n",
    "we can create a "
   ]
  },
  {
   "cell_type": "code",
   "execution_count": 7,
   "id": "19c4523e",
   "metadata": {},
   "outputs": [
    {
     "name": "stdout",
     "output_type": "stream",
     "text": [
      "{1, 'indigo', 'blue', 'yellow', 'red', 'ylolet', 'orange', 'green'}\n",
      "frozenset({1, 'indigo', 'yellow', 'red', 'ylolet', 'blue', 'orange', 'green'})\n"
     ]
    },
    {
     "ename": "AttributeError",
     "evalue": "'frozenset' object has no attribute 'add'",
     "output_type": "error",
     "traceback": [
      "\u001b[1;31m---------------------------------------------------------------------------\u001b[0m",
      "\u001b[1;31mAttributeError\u001b[0m                            Traceback (most recent call last)",
      "Cell \u001b[1;32mIn[7], line 6\u001b[0m\n\u001b[0;32m      4\u001b[0m f_set \u001b[38;5;241m=\u001b[39m \u001b[38;5;28mfrozenset\u001b[39m(fainbow)\n\u001b[0;32m      5\u001b[0m \u001b[38;5;28mprint\u001b[39m(f_set)\n\u001b[1;32m----> 6\u001b[0m f_set\u001b[38;5;241m.\u001b[39madd(\u001b[38;5;241m2\u001b[39m)\n\u001b[0;32m      7\u001b[0m \u001b[38;5;28mprint\u001b[39m(f_set)\n",
      "\u001b[1;31mAttributeError\u001b[0m: 'frozenset' object has no attribute 'add'"
     ]
    }
   ],
   "source": [
    "fainbow = {'ylolet','indigo','blue','green','yellow','orange','red'}\n",
    "fainbow.add(1)\n",
    "print(fainbow )\n",
    "f_set = frozenset(fainbow)\n",
    "print(f_set)\n",
    "f_set.add(2)\n",
    "print(f_set)"
   ]
  },
  {
   "cell_type": "code",
   "execution_count": 3,
   "id": "80f07e6e",
   "metadata": {},
   "outputs": [
    {
     "ename": "AttributeError",
     "evalue": "'frozenset' object has no attribute 'add'",
     "output_type": "error",
     "traceback": [
      "\u001b[1;31m---------------------------------------------------------------------------\u001b[0m",
      "\u001b[1;31mAttributeError\u001b[0m                            Traceback (most recent call last)",
      "Cell \u001b[1;32mIn[3], line 2\u001b[0m\n\u001b[0;32m      1\u001b[0m fainbow \u001b[38;5;241m=\u001b[39m (\u001b[38;5;124m'\u001b[39m\u001b[38;5;124mylolet\u001b[39m\u001b[38;5;124m'\u001b[39m,\u001b[38;5;124m'\u001b[39m\u001b[38;5;124mindigo\u001b[39m\u001b[38;5;124m'\u001b[39m,\u001b[38;5;124m'\u001b[39m\u001b[38;5;124mblue\u001b[39m\u001b[38;5;124m'\u001b[39m,\u001b[38;5;124m'\u001b[39m\u001b[38;5;124mgreen\u001b[39m\u001b[38;5;124m'\u001b[39m,\u001b[38;5;124m'\u001b[39m\u001b[38;5;124myellow\u001b[39m\u001b[38;5;124m'\u001b[39m,\u001b[38;5;124m'\u001b[39m\u001b[38;5;124morange\u001b[39m\u001b[38;5;124m'\u001b[39m,\u001b[38;5;124m'\u001b[39m\u001b[38;5;124mred\u001b[39m\u001b[38;5;124m'\u001b[39m)\n\u001b[1;32m----> 2\u001b[0m f_set\u001b[38;5;241m.\u001b[39madd \u001b[38;5;241m=\u001b[39m \u001b[38;5;28mfrozenset\u001b[39m(fainbow)\n\u001b[0;32m      3\u001b[0m \u001b[38;5;28mprint\u001b[39m(f_set)\n",
      "\u001b[1;31mAttributeError\u001b[0m: 'frozenset' object has no attribute 'add'"
     ]
    }
   ],
   "source": [
    "fainbow = ('ylolet','indigo','blue','green','yellow','orange','red')\n",
    "f_set.add = frozenset(fainbow)\n",
    "print(f_set)"
   ]
  },
  {
   "cell_type": "markdown",
   "id": "03be756d",
   "metadata": {},
   "source": [
    "# Nested sets \n",
    " in case we try to add anither set as an element to a set than we get tha 'type  error:unhashable type: 'set' this is because a set is non hashable. (a       hashable objact is one whose value will not change\n",
    " to creale a nest"
   ]
  },
  {
   "cell_type": "code",
   "execution_count": 11,
   "id": "35ebd989",
   "metadata": {},
   "outputs": [
    {
     "name": "stdout",
     "output_type": "stream",
     "text": [
      "{frozenset({'indigo', 'yellow', 'red', 'ylolet', 'blue', 'orange', 'green'}), frozenset({'pink', 'white', 'black'})}\n",
      "{frozenset({'indigo', 'yellow', 'red', 'ylolet', 'blue', 'orange', 'green'}), 2, frozenset({'pink', 'white', 'black'})}\n"
     ]
    }
   ],
   "source": [
    "raindow = ('ylolet','indigo','blue','green','yellow','orange','red')\n",
    "other_colors = ('white','black','pink')\n",
    "\n",
    "nested_set = set((frozenset(raindow),frozenset(other_colors)))\n",
    "print(nested_set)              \n",
    "nested_set.add(2)\n",
    "print(nested_set)"
   ]
  },
  {
   "cell_type": "code",
   "execution_count": 12,
   "id": "5eb2a612",
   "metadata": {
    "scrolled": true
   },
   "outputs": [
    {
     "ename": "TypeError",
     "evalue": "unhashable type: 'set'",
     "output_type": "error",
     "traceback": [
      "\u001b[1;31m---------------------------------------------------------------------------\u001b[0m",
      "\u001b[1;31mTypeError\u001b[0m                                 Traceback (most recent call last)",
      "Cell \u001b[1;32mIn[12], line 1\u001b[0m\n\u001b[1;32m----> 1\u001b[0m a\u001b[38;5;241m=\u001b[39m{\u001b[38;5;241m1\u001b[39m,\u001b[38;5;241m3\u001b[39m,{\u001b[38;5;241m2\u001b[39m}}\n\u001b[0;32m      2\u001b[0m \u001b[38;5;28mprint\u001b[39m(a)\n",
      "\u001b[1;31mTypeError\u001b[0m: unhashable type: 'set'"
     ]
    }
   ],
   "source": [
    "a={1,3,{2}}\n",
    "print(a)"
   ]
  },
  {
   "cell_type": "code",
   "execution_count": 19,
   "id": "cf5e7846",
   "metadata": {},
   "outputs": [
    {
     "name": "stdout",
     "output_type": "stream",
     "text": [
      "frozenset({1, 2})\n",
      "frozenset({3, 4})\n",
      "(frozenset({1, 2}), frozenset({3, 4}))\n",
      "{frozenset({3, 4}), frozenset({1, 2})}\n",
      "{frozenset({3, 4}), 'hello', frozenset({1, 2})}\n"
     ]
    }
   ],
   "source": [
    "a={1,2}\n",
    "b={3,4}\n",
    "c=frozenset(a)\n",
    "print(c)\n",
    "d=frozenset(b)\n",
    "print(d)\n",
    "e=(c,d)\n",
    "print(e)\n",
    "new_set=set(e)\n",
    "print(new_set)\n",
    "new_set.add(\"hello\")\n",
    "print(new_set)"
   ]
  },
  {
   "cell_type": "code",
   "execution_count": 9,
   "id": "ec875d68",
   "metadata": {},
   "outputs": [
    {
     "name": "stdout",
     "output_type": "stream",
     "text": [
      "None\n"
     ]
    }
   ],
   "source": [
    "x=[1,2,4,6]\n",
    "print(x.insert(2,3))"
   ]
  },
  {
   "cell_type": "code",
   "execution_count": null,
   "id": "3de3e3a0",
   "metadata": {},
   "outputs": [],
   "source": []
  }
 ],
 "metadata": {
  "kernelspec": {
   "display_name": "Python 3 (ipykernel)",
   "language": "python",
   "name": "python3"
  },
  "language_info": {
   "codemirror_mode": {
    "name": "ipython",
    "version": 3
   },
   "file_extension": ".py",
   "mimetype": "text/x-python",
   "name": "python",
   "nbconvert_exporter": "python",
   "pygments_lexer": "ipython3",
   "version": "3.11.3"
  }
 },
 "nbformat": 4,
 "nbformat_minor": 5
}
