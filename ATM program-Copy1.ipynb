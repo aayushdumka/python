{
 "cells": [
  {
   "cell_type": "code",
   "execution_count": 1,
   "id": "8ac27fe8",
   "metadata": {},
   "outputs": [
    {
     "name": "stdout",
     "output_type": "stream",
     "text": [
      "enter account no : 123456789\n",
      "enter your pin :1234\n",
      "choose what would you like to do:\n",
      "1--withdraw cash\n",
      "2--check bank balance\n",
      "3--update pin\n",
      "enter the choice :2\n",
      "welcome  aayush\n",
      "your balance is: 1200000000000\n",
      "thank you\n"
     ]
    }
   ],
   "source": [
    "a=[['aayush',['account number',123456789],['pin',1234],['bank balance',1200000000000]]]\n",
    "for i in a:\n",
    "    b=int(input('enter account no : '))\n",
    "    if b!=i[1][1]:\n",
    "        print('enter valid account number')\n",
    "    else:\n",
    "        b=int(input('enter your pin :'))\n",
    "        if b!=i[2][1]:\n",
    "            print('enter valid pin')\n",
    "        else:\n",
    "            print('choose what would you like to do:')\n",
    "            print('1--withdraw cash')\n",
    "            print('2--check bank balance')\n",
    "            print('3--update pin')\n",
    "            x=int(input('enter the choice :'))\n",
    "            if x==1:\n",
    "                print('welcome ',i[0])\n",
    "                amount=int(input('enter the amount you want to withdraw :'))\n",
    "                y=i[3][1]-amount\n",
    "                i[3][1]=y\n",
    "                print('your request is under process')\n",
    "                    \n",
    "            elif x==2 :\n",
    "                print('welcome ',i[0]) \n",
    "                print('your balance is:',i[3][1])\n",
    "            \n",
    "               \n",
    "            elif x==3 :\n",
    "                print('welcome ',i[0])       \n",
    "                abb=int(input('enter your old pin'))\n",
    "                if abb!=i[2][1]:\n",
    "                    print('wrong pin')\n",
    "                else :\n",
    "                    add=int(input('enter new pin'))\n",
    "                    if len(new_pin)<4:\n",
    "                        print('new pin is should be a  digit number')\n",
    "                    else :\n",
    "                        i[2][1]=new_pin\n",
    "                        print(\"your pin has been updated\")\n",
    "            else:\n",
    "                print('selection was invalid exiting the process')               \n",
    "print('thank you')"
   ]
  },
  {
   "cell_type": "code",
   "execution_count": null,
   "id": "a9b8e9f9",
   "metadata": {},
   "outputs": [],
   "source": []
  }
 ],
 "metadata": {
  "kernelspec": {
   "display_name": "Python 3 (ipykernel)",
   "language": "python",
   "name": "python3"
  },
  "language_info": {
   "codemirror_mode": {
    "name": "ipython",
    "version": 3
   },
   "file_extension": ".py",
   "mimetype": "text/x-python",
   "name": "python",
   "nbconvert_exporter": "python",
   "pygments_lexer": "ipython3",
   "version": "3.11.3"
  }
 },
 "nbformat": 4,
 "nbformat_minor": 5
}
